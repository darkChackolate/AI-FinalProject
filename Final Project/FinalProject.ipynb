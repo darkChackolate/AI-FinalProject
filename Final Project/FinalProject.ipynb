{
 "cells": [
  {
   "cell_type": "markdown",
   "metadata": {},
   "source": [
    "1. Implement two classification algorithms for detecting faces and classifying digits:\n",
    "(a) Perceptron\n",
    "(b) Two-layer Neural Network (input layer, one hidden layer, output)\n",
    "2. Design the features for each of the two problems, and write a program for extracting the features from each image.\n",
    "You can also use the raw pixels directly as features (and avoid the process of designing features altogether) if that\n",
    "results in a better classification accuracy.\n",
    "3. Train the two algorithms on the part of the data set that is reserved for training. First, use only 10% of the data points\n",
    "that are reserved for training, then 20%, 30%, 40%, 50%, 60%, 70%, 80%, 90%, and finally 100%. All the results\n",
    "should a function of the number of data points used for training.\n",
    "4. Compare the performances of the two algorithms using the part of the data set that is reserved for testing, and report:\n",
    "• The time needed for training as a function of the number of data points used for training.\n",
    "• The prediction error (and standard deviation) as a function of the number of data points used for training.\n",
    "5. Write a report describing the implemented algorithms and discussing the results and the learned lessons."
   ]
  },
  {
   "cell_type": "code",
   "execution_count": 1,
   "metadata": {},
   "outputs": [],
   "source": [
    "# if f(x) >= 0 then y = face\n",
    "# else y = not face\n",
    "\n",
    "#f(x) = w1*phi(x) + w2*phi2(x) + ..\n",
    "# phi(x) = number of black pixels (example)\n",
    "\n",
    "# intialize weights randomonly at first\n",
    "\n",
    "# training condition is while less than 5 minutes or\n",
    "# the weights aren't changing from image to image\n",
    "\n",
    "#  update weights in training\n",
    " # if f(x) >=0 and y =face\n",
    " # or  f(x) <= 0 and y = not face\n",
    " # then do nothing\n",
    "\n",
    " # else if f(x) >= 0 and y = not face\n",
    " # then w1 = w1 -phi1 (x) \n",
    " #      w2 = w2 - phi2(x)\n",
    "\n",
    "# else if f(x) < 0 and y = face\n",
    " # then w1 = w1 + phi1 (x) \n",
    " #      w2 = w2 + phi2(x)\n",
    "\n",
    "\n",
    "#f = w1 * phi1(x) + w2 * phi2(x)\n",
    "\n"
   ]
  },
  {
   "cell_type": "code",
   "execution_count": null,
   "metadata": {},
   "outputs": [],
   "source": []
  },
  {
   "cell_type": "code",
   "execution_count": 2,
   "metadata": {},
   "outputs": [],
   "source": [
    "# Determine features - will need to obtain from image\n",
    "# First step is get data from facedatatrain to use in this notebook\n",
    "# Each face image is 70x60 (row x column) and each face begins and ends with an empty line (not including the 70x60).\n",
    "# Then make a feature matrix of size 70*60, where each pixel is a feature"
   ]
  },
  {
   "cell_type": "code",
   "execution_count": 3,
   "metadata": {},
   "outputs": [
    {
     "name": "stdout",
     "output_type": "stream",
     "text": [
      "Requirement already satisfied: numpy in c:\\users\\nafri\\appdata\\local\\programs\\python\\python310\\lib\\site-packages (1.26.4)\n",
      "Note: you may need to restart the kernel to use updated packages.\n"
     ]
    },
    {
     "name": "stderr",
     "output_type": "stream",
     "text": [
      "WARNING: You are using pip version 21.2.4; however, version 24.0 is available.\n",
      "You should consider upgrading via the 'c:\\Users\\nafri\\AppData\\Local\\Programs\\Python\\Python310\\python.exe -m pip install --upgrade pip' command.\n"
     ]
    }
   ],
   "source": [
    "pip install numpy"
   ]
  },
  {
   "cell_type": "code",
   "execution_count": 4,
   "metadata": {},
   "outputs": [],
   "source": [
    "import sys\n",
    "sys.path.insert(1, 'C:/Users/nafri/College/Senior Year/Spring Semester/Intro to AI/AI-FinalProject/Final Project/Berkeley_Example')"
   ]
  },
  {
   "cell_type": "code",
   "execution_count": 10,
   "metadata": {},
   "outputs": [],
   "source": [
    "from Berkeley_Example import samples\n",
    "from perceptron import PerceptronClassifier\n",
    "import numpy as np"
   ]
  },
  {
   "cell_type": "code",
   "execution_count": 58,
   "metadata": {},
   "outputs": [
    {
     "ename": "IndentationError",
     "evalue": "expected an indented block after 'else' statement on line 83 (4074450682.py, line 86)",
     "output_type": "error",
     "traceback": [
      "\u001b[1;36m  Cell \u001b[1;32mIn[58], line 86\u001b[1;36m\u001b[0m\n\u001b[1;33m    num_correct = 0\u001b[0m\n\u001b[1;37m    ^\u001b[0m\n\u001b[1;31mIndentationError\u001b[0m\u001b[1;31m:\u001b[0m expected an indented block after 'else' statement on line 83\n"
     ]
    }
   ],
   "source": [
    "# Parses images and divides image into features\n",
    "NUM_IMAGES = 300\n",
    "face_train_images = samples.loadDataFile('data/facedata/facedatatrain', NUM_IMAGES, 60, 70)\n",
    "face_train_labels = samples.loadLabelsFile('data/facedata/facedatatrainlabels', NUM_IMAGES)\n",
    "# face_valid_images = samples.loadDataFile('data/facedata/facedatavalidation', 10, 60, 70)\n",
    "# face_valid_labels = samples.loadLabelsFile('data/facedata/facedatavalidationlabels', 10)\n",
    "\n",
    "image_lst = []\n",
    "\"\"\"\n",
    "switch = True\n",
    "for image in face_train_images:\n",
    "    while switch:\n",
    "        print(image.getPixels())\n",
    "        switch = False\n",
    "\"\"\"\n",
    "# Create list of 2d lists that has feature vals for images\n",
    "for image in face_train_images:\n",
    "    matrix = image.getPixels()\n",
    "    for i in range(len(matrix)):\n",
    "        for j in range(len(matrix[0])):\n",
    "            matrix[i][j] = samples.IntegerConversionFunction(matrix[i][j])\n",
    "    image_lst.append(matrix)\n",
    "\n",
    "\n",
    "print(image_lst[0])\n",
    "\n",
    "# Randomly intialize weights and bias\n",
    "weights = np.random.randint(-400,400,size=(70,60))\n",
    "bias = np.random.randint(-200,200)\n",
    "print(bias)\n",
    "f = np.zeros(NUM_IMAGES).astype(int)\n",
    "print(f)\n",
    "\n",
    "def update_weights(image,weights,bias,over_estimate):\n",
    "    if over_estimate:\n",
    "        bias -= 1\n",
    "        for i in range(len(weights)):\n",
    "            for j in range(len(weights[0])):\n",
    "                #print(f'Before: {weights[i][j]} Feature: {image[i][j]}')\n",
    "                weights[i][j] -= image[i][j]\n",
    "                #print(f'After: {weights[i][j]}')\n",
    "    else:\n",
    "        bias += 1\n",
    "        for i in range(len(weights)):\n",
    "            for j in range(len(weights[0])):\n",
    "                #print(f'Before: {weights[i][j]} Feature: {image[i][j]}')\n",
    "                weights[i][j] += image[i][j]\n",
    "                #print(f'After: {weights[i][j]}')\n",
    "\n",
    "#i = 0\n",
    "#while i < len(image_lst):\n",
    "\n",
    "# Need to make outer loop that iterate until time limit is hit or weights have changed since last iteration (weights have converged)\n",
    "convergence = 0\n",
    "iteration = 0\n",
    "\n",
    "while iteration < 15:\n",
    "    iteration += 1\n",
    "    print(f'iteration = {iteration}')\n",
    "\n",
    "    for i in range(len(image_lst)):\n",
    "        f[i] = bias\n",
    "        image = image_lst[i]\n",
    "        for r in range(len(image)):\n",
    "            #print(len(image))\n",
    "            for c in range(len(image[0])):\n",
    "                #print(len(image[0]))\n",
    "                f += weights[r][c] * image[r][c]\n",
    "        #print(f'f(x{i}) = {f[i]}, Label = {face_train_labels[i]}')\n",
    "\n",
    "        #if (f >= 0 and face_train_labels[i] == 1) or (f < 0 and face_train_labels[i] == 0):\n",
    "            #continue\n",
    "        if f[i] >= 0 and face_train_labels[i] == 0:\n",
    "            #print('Overestimate')\n",
    "            #print(f'f={f[i]},actual={face_train_labels[i]}')\n",
    "            update_weights(image,weights,bias,True)\n",
    "            convergence += 1\n",
    "        elif f[i] < 0 and face_train_labels[i] == 1:\n",
    "            #print('Underestimate')\n",
    "            #print(f'f={f[i]},actual={face_train_labels[i]}')\n",
    "            update_weights(image,weights,bias,False)\n",
    "            convergence += 1\n",
    "        else:\n",
    "            convergence = 0\n",
    "\n",
    "    num_correct = 0\n",
    "    for i in range(len(f)):\n",
    "        #print(f[i],face_train_labels[i])\n",
    "        if (f[i] >= 0 and face_train_labels[i] == 1) or (f[i] < 0 and face_train_labels[i] == 0):\n",
    "            num_correct += 1\n",
    "    #print(num_correct)\n",
    "\n",
    "    result = '{:.2%}'.format(num_correct / len(face_train_labels))\n",
    "    \n",
    "    print(f'Model Accuracy = {result}')\n",
    "\n",
    "\n",
    "    #for score in f:\n",
    "        #print(score)\n",
    "\n",
    "\n",
    "# Need to create data structure to hold f so I can compare f of each image to proper answer (train_labels) to measure accuracy\n",
    "\n",
    "#face_perceptron = PerceptronClassifier(legal_labels,10)\n",
    "#face_perceptron.train(face_train_images,face_train_labels,face_valid_images,face_valid_labels)"
   ]
  },
  {
   "cell_type": "code",
   "execution_count": 34,
   "metadata": {},
   "outputs": [
    {
     "name": "stdout",
     "output_type": "stream",
     "text": [
      "[1, 0, 1, 0, 1, 1, 0, 0, 0, 0]\n"
     ]
    }
   ],
   "source": [
    "print(face_train_labels)"
   ]
  },
  {
   "cell_type": "code",
   "execution_count": null,
   "metadata": {},
   "outputs": [],
   "source": [
    "def perceptron(features, weights, labels):\n",
    "    "
   ]
  },
  {
   "cell_type": "code",
   "execution_count": null,
   "metadata": {},
   "outputs": [],
   "source": [
    "import numpy as np\n",
    "weights = np.random.rand(1, 4200)\n",
    "phitures = 0"
   ]
  }
 ],
 "metadata": {
  "kernelspec": {
   "display_name": "Python 3",
   "language": "python",
   "name": "python3"
  },
  "language_info": {
   "codemirror_mode": {
    "name": "ipython",
    "version": 3
   },
   "file_extension": ".py",
   "mimetype": "text/x-python",
   "name": "python",
   "nbconvert_exporter": "python",
   "pygments_lexer": "ipython3",
   "version": "3.10.2"
  }
 },
 "nbformat": 4,
 "nbformat_minor": 2
}
