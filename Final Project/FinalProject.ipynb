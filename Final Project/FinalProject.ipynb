{
 "cells": [
  {
   "cell_type": "markdown",
   "metadata": {},
   "source": [
    "1. Implement two classification algorithms for detecting faces and classifying digits:\n",
    "(a) Perceptron\n",
    "(b) Two-layer Neural Network (input layer, one hidden layer, output)\n",
    "2. Design the features for each of the two problems, and write a program for extracting the features from each image.\n",
    "You can also use the raw pixels directly as features (and avoid the process of designing features altogether) if that\n",
    "results in a better classification accuracy.\n",
    "3. Train the two algorithms on the part of the data set that is reserved for training. First, use only 10% of the data points\n",
    "that are reserved for training, then 20%, 30%, 40%, 50%, 60%, 70%, 80%, 90%, and finally 100%. All the results\n",
    "should a function of the number of data points used for training.\n",
    "4. Compare the performances of the two algorithms using the part of the data set that is reserved for testing, and report:\n",
    "• The time needed for training as a function of the number of data points used for training.\n",
    "• The prediction error (and standard deviation) as a function of the number of data points used for training.\n",
    "5. Write a report describing the implemented algorithms and discussing the results and the learned lessons."
   ]
  },
  {
   "cell_type": "code",
   "execution_count": 1,
   "metadata": {},
   "outputs": [],
   "source": [
    "# if f(x) >= 0 then y = face\n",
    "# else y = not face\n",
    "\n",
    "#f(x) = w1*phi(x) + w2*phi2(x) + ..\n",
    "# phi(x) = number of black pixels (example)\n",
    "\n",
    "# intialize weights randomonly at first\n",
    "\n",
    "# training condition is while less than 5 minutes or\n",
    "# the weights aren't changing from image to image\n",
    "\n",
    "#  update weights in training\n",
    " # if f(x) >=0 and y =face\n",
    " # or  f(x) <= 0 and y = not face\n",
    " # then do nothing\n",
    "\n",
    " # else if f(x) >= 0 and y = not face\n",
    " # then w1 = w1 -phi1 (x) \n",
    " #      w2 = w2 - phi2(x)\n",
    "\n",
    "# else if f(x) < 0 and y = face\n",
    " # then w1 = w1 + phi1 (x) \n",
    " #      w2 = w2 + phi2(x)\n",
    "\n",
    "\n",
    "#f = w1 * phi1(x) + w2 * phi2(x)\n",
    "\n"
   ]
  },
  {
   "cell_type": "code",
   "execution_count": 2,
   "metadata": {},
   "outputs": [],
   "source": [
    "# Determine features - will need to obtain from image\n",
    "# First step is get data from facedatatrain to use in this notebook\n",
    "# Each face image is 70x60 (row x column) and each face begins and ends with an empty line (not including the 70x60).\n",
    "# Then make a feature matrix of size 70*60, where each pixel is a feature"
   ]
  },
  {
   "cell_type": "code",
   "execution_count": 3,
   "metadata": {},
   "outputs": [
    {
     "name": "stdout",
     "output_type": "stream",
     "text": [
      "Requirement already satisfied: numpy in c:\\users\\nafri\\appdata\\local\\programs\\python\\python310\\lib\\site-packages (1.26.4)\n"
     ]
    },
    {
     "name": "stderr",
     "output_type": "stream",
     "text": [
      "WARNING: You are using pip version 21.2.4; however, version 24.0 is available.\n",
      "You should consider upgrading via the 'C:\\Users\\nafri\\AppData\\Local\\Programs\\Python\\Python310\\python.exe -m pip install --upgrade pip' command.\n"
     ]
    }
   ],
   "source": [
    "! pip install numpy"
   ]
  },
  {
   "cell_type": "code",
   "execution_count": 4,
   "metadata": {},
   "outputs": [],
   "source": [
    "import sys\n",
    "sys.path.insert(1, 'C:/Users/nafri/College/Senior Year/Spring Semester/Intro to AI/AI-FinalProject/Final Project/Berkeley_Example')\n",
    "sys.path.insert(1, 'C:/Users/jzlyn/OneDrive/Desktop/CS440/AI-FinalProject/Final Project/Berkeley_Example')"
   ]
  },
  {
   "cell_type": "code",
   "execution_count": 5,
   "metadata": {},
   "outputs": [],
   "source": [
    "from Berkeley_Example import samples\n",
    "from Berkeley_Example.perceptron import PerceptronClassifier\n",
    "import numpy as np\n",
    "import math"
   ]
  },
  {
   "cell_type": "code",
   "execution_count": 6,
   "metadata": {},
   "outputs": [],
   "source": [
    "def sigmoid(x):\n",
    "    try:\n",
    "        sig =1/(1 + math.exp(-x))\n",
    "    except:\n",
    "        sig = 0   \n",
    "    return sig"
   ]
  },
  {
   "cell_type": "code",
   "execution_count": 7,
   "metadata": {},
   "outputs": [],
   "source": [
    "def update_weights(image,weights,over_estimate):\n",
    "    for i in range(len(weights)):\n",
    "        for j in range(len(weights[0])):\n",
    "            if over_estimate:\n",
    "                weights[i][j] -= image[i][j]\n",
    "            else:\n",
    "                weights[i][j] += image[i][j]"
   ]
  },
  {
   "cell_type": "code",
   "execution_count": 8,
   "metadata": {},
   "outputs": [],
   "source": [
    "def face_train(n,percent):\n",
    "    face_train_images = samples.loadDataFile('data/facedata/facedatatrain', n, 60, 70)\n",
    "    face_train_labels = samples.loadLabelsFile('data/facedata/facedatatrainlabels', n)\n",
    "    \n",
    "    size = n * percent\n",
    "\n",
    "    weights = np.random.uniform(-1, 1, size=(70, 60))\n",
    "    bias = np.random.uniform(-1, 1)\n",
    "    f = np.zeros(int(size)).astype(float)\n",
    "\n",
    "    image_lst = []\n",
    "\n",
    "    rand_samples = np.random.choice(n, int(size), replace=False)\n",
    "    \n",
    "    for i in rand_samples:\n",
    "        matrix = face_train_images[i].getPixels()\n",
    "        for r in range(len(matrix)):\n",
    "            for c in range(len(matrix[0])):\n",
    "                matrix[r][c] = samples.IntegerConversionFunction(matrix[r][c])\n",
    "        image_lst.append(matrix)\n",
    "            \n",
    "\n",
    "    for i in range(len(image_lst)):\n",
    "        f[i] = bias\n",
    "        image = image_lst[i]\n",
    "        for r in range(len(image)):\n",
    "            for c in range(len(image[0])):\n",
    "                f[i] += weights[r][c] * image[r][c]\n",
    "\n",
    "        if f[i] >= 0 and face_train_labels[rand_samples[i]] == 0:\n",
    "            update_weights(image,weights,True)\n",
    "            bias -= 1\n",
    "        elif f[i] < 0 and face_train_labels[rand_samples[i]] == 1:\n",
    "            update_weights(image,weights,False)\n",
    "            bias += 1\n",
    "\n",
    "    return (weights, bias)  "
   ]
  },
  {
   "cell_type": "code",
   "execution_count": 9,
   "metadata": {},
   "outputs": [],
   "source": [
    "def face_validate(n,percent,weights,bias):\n",
    "    face_valid_images = samples.loadDataFile('data/facedata/facedatavalidation', n, 60, 70)\n",
    "    face_valid_labels = samples.loadLabelsFile('data/facedata/facedatavalidationlabels', n)\n",
    "\n",
    "    size = n * percent\n",
    " \n",
    "    f = np.zeros(int(size)).astype(float)\n",
    "\n",
    "    image_lst = []\n",
    "\n",
    "    rand_samples = np.random.choice(n, int(size), replace=False)\n",
    "    \n",
    "    for i in rand_samples:\n",
    "        matrix = face_valid_images[i].getPixels()\n",
    "        for r in range(len(matrix)):\n",
    "            for c in range(len(matrix[0])):\n",
    "                matrix[r][c] = samples.IntegerConversionFunction(matrix[r][c])\n",
    "        image_lst.append(matrix)\n",
    "\n",
    "    for i in range(len(image_lst)):\n",
    "        f[i] = bias\n",
    "        image = image_lst[i]\n",
    "        for r in range(len(image)):\n",
    "            for c in range(len(image[0])):\n",
    "                f[i] += weights[r][c] * image[r][c]\n",
    "\n",
    "    num_correct = 0\n",
    "    for i in range(len(f)):\n",
    "        if (f[i] >= 0 and face_valid_labels[rand_samples[i]] == 1) or (f[i] < 0 and face_valid_labels[rand_samples[i]] == 0):\n",
    "            num_correct += 1\n",
    "\n",
    "    result = num_correct / size\n",
    "\n",
    "    return result"
   ]
  },
  {
   "cell_type": "code",
   "execution_count": 10,
   "metadata": {},
   "outputs": [
    {
     "name": "stdout",
     "output_type": "stream",
     "text": [
      "Percent of Training Data Used = 10.00%\n",
      "[0.6312292358803986, 0.7308970099667774, 0.7973421926910299, 0.7641196013289037, 0.6312292358803986]\n",
      "Mean: 0.7109634551495015\n",
      "Std: 0.06840950259792031\n",
      "\n",
      "Percent of Training Data Used = 20.00%\n",
      "[0.7142857142857143, 0.7475083056478405, 0.7308970099667774, 0.6644518272425249, 0.7308970099667774]\n",
      "Mean: 0.717607973421927\n",
      "Std: 0.02857915371110507\n",
      "\n",
      "Percent of Training Data Used = 30.00%\n",
      "[0.6201550387596898, 0.7641196013289036, 0.7308970099667773, 0.5758582502768549, 0.7419712070874861]\n",
      "Mean: 0.6866002214839424\n",
      "Std: 0.07445287403752651\n",
      "\n",
      "Percent of Training Data Used = 40.00%\n",
      "[0.5897009966777408, 0.7807308970099668, 0.7308970099667774, 0.7890365448504983, 0.7641196013289037]\n",
      "Mean: 0.7308970099667774\n",
      "Std: 0.07335349556750707\n",
      "\n",
      "Percent of Training Data Used = 50.00%\n",
      "[0.717607973421927, 0.8039867109634552, 0.7840531561461794, 0.8172757475083057, 0.7641196013289037]\n",
      "Mean: 0.777408637873754\n",
      "Std: 0.03490744328654803\n",
      "\n",
      "Percent of Training Data Used = 60.00%\n",
      "[0.769656699889258, 0.7973421926910299, 0.813953488372093, 0.8305647840531561, 0.7641196013289037]\n",
      "Mean: 0.7951273532668881\n",
      "Std: 0.02539832766595729\n",
      "\n",
      "Percent of Training Data Used = 70.00%\n",
      "[0.7973421926910298, 0.7166587565258661, 0.849549121974371, 0.7736117702895111, 0.8020882771713336]\n",
      "Mean: 0.7878500237304223\n",
      "Std: 0.04329095111909398\n",
      "\n",
      "Percent of Training Data Used = 80.00%\n",
      "[0.8637873754152824, 0.8014950166112956, 0.8264119601328903, 0.7682724252491694, 0.7931893687707641]\n",
      "Mean: 0.8106312292358805\n",
      "Std: 0.03242395564110157\n",
      "\n",
      "Percent of Training Data Used = 90.00%\n",
      "[0.8379475821336285, 0.830564784053156, 0.8490217792543373, 0.8194905869324473, 0.830564784053156]\n",
      "Mean: 0.833517903285345\n",
      "Std: 0.009738579518843072\n",
      "\n",
      "Percent of Training Data Used = 100.00%\n",
      "[0.8239202657807309, 0.7740863787375415, 0.8338870431893688, 0.7906976744186046, 0.8372093023255814]\n",
      "Mean: 0.8119601328903654\n",
      "Std: 0.025091305765447477\n",
      "\n"
     ]
    }
   ],
   "source": [
    "TRAIN_SIZE = 451\n",
    "VALID_SIZE = 301\n",
    "epochs = 5\n",
    "percentage = np.arange(0.1,1.1,.1)\n",
    "\n",
    "for percent in percentage:\n",
    "    accuracy = []\n",
    "    for i in range(epochs):\n",
    "        weights, bias = face_train(TRAIN_SIZE,percent) # return weights and bias used for validation\n",
    "        result = face_validate(VALID_SIZE,percent,weights,bias)\n",
    "        accuracy.append(result)\n",
    "\n",
    "    # Optional - Save to file later    \n",
    "    print(f'Percent of Training Data Used = {\"{:.2%}\".format(percent)}')\n",
    "    print(accuracy)\n",
    "    print(f'Mean: {np.mean(accuracy)}')\n",
    "    print(f'Std: {np.std(accuracy)}')\n",
    "    print()"
   ]
  },
  {
   "cell_type": "code",
   "execution_count": 83,
   "metadata": {},
   "outputs": [],
   "source": [
    "def update_digit_weights(image,weights,bias,prediction,actual):\n",
    "    for i in range(len(weights)):\n",
    "        for j in range(len(weights[0])):\n",
    "            weights[prediction][i][j] -= image[i][j]\n",
    "            bias[prediction] -= 1\n",
    "            weights[actual][i][j] += image[i][j]\n",
    "            bias[actual] += 1"
   ]
  },
  {
   "cell_type": "code",
   "execution_count": 84,
   "metadata": {},
   "outputs": [],
   "source": [
    "def digit_train(n,percent):\n",
    "    digit_train_images = samples.loadDataFile('data/digitdata/trainingimages', n, 28, 28)\n",
    "    digit_train_labels = samples.loadLabelsFile('data/digitdata/traininglabels', n)\n",
    "    \n",
    "    size = int(n * percent)\n",
    "    DIGITS = 10\n",
    "\n",
    "    weights = np.random.uniform(-400, 400, size=(DIGITS, 28, 28))\n",
    "    #print(weights)\n",
    "    bias = np.random.uniform(-200, 200, size=DIGITS)\n",
    "    #print(bias)\n",
    "    f = np.zeros((DIGITS,size)).astype(float)\n",
    "    #print(f)\n",
    "    image_lst = []\n",
    "\n",
    "    rand_samples = np.random.choice(n, size, replace=False)\n",
    "    #rand_samples = [0,1,2,3,4]\n",
    "    \n",
    "    for i in rand_samples:\n",
    "        matrix = digit_train_images[i].getPixels()\n",
    "        for r in range(len(matrix)):\n",
    "            for c in range(len(matrix[0])):\n",
    "                matrix[r][c] = samples.IntegerConversionFunction(matrix[r][c])\n",
    "        #print(matrix)\n",
    "        image_lst.append(matrix)\n",
    "\n",
    "    #print(rand_samples)\n",
    "            \n",
    "\n",
    "    for i in range(len(image_lst)):\n",
    "        max_predict = np.NINF\n",
    "        arg_max = 0\n",
    "        for d in range(DIGITS):\n",
    "            f[d][i] = bias[d]\n",
    "            image = image_lst[i]\n",
    "            for r in range(len(image)):\n",
    "                for c in range(len(image[0])):\n",
    "                    f[d][i] += weights[d][r][c] * image[r][c]\n",
    "            #print(f'f digit {d} image {i}: {f[d][i]}')\n",
    "            if f[d][i] > max_predict:\n",
    "                max_predict = f[d][i]\n",
    "                arg_max = d\n",
    "            \n",
    "        #print()\n",
    "            \n",
    "            # Find f[d] (digit) with highest prediction\n",
    "\n",
    "        #print(f'Predicted Digit: {arg_max} Actual Digit: {digit_train_labels[rand_samples[i]]}')\n",
    "        #print()\n",
    "\n",
    "        if arg_max != digit_train_labels[rand_samples[i]]:\n",
    "            update_digit_weights(image,weights,bias,arg_max,digit_train_labels[rand_samples[i]])\n",
    "\n",
    "    return (weights, bias)  "
   ]
  },
  {
   "cell_type": "code",
   "execution_count": null,
   "metadata": {},
   "outputs": [],
   "source": [
    "digit_train(5000,.001)"
   ]
  },
  {
   "cell_type": "code",
   "execution_count": 86,
   "metadata": {},
   "outputs": [],
   "source": [
    "def digit_validate(n,percent,weights,bias):\n",
    "    digit_valid_images = samples.loadDataFile('data/digitdata/validationimages', n, 28, 28)\n",
    "    digit_valid_labels = samples.loadLabelsFile('data/digitdata/validationlabels', n)\n",
    "\n",
    "    size = int(n * percent)\n",
    "    DIGITS = 10\n",
    " \n",
    "    f = np.zeros((DIGITS,size)).astype(float)\n",
    "\n",
    "    image_lst = []\n",
    "\n",
    "    rand_samples = np.random.choice(n, size, replace=False)\n",
    "    \n",
    "    for i in rand_samples:\n",
    "        matrix = digit_valid_images[i].getPixels()\n",
    "        for r in range(len(matrix)):\n",
    "            for c in range(len(matrix[0])):\n",
    "                matrix[r][c] = samples.IntegerConversionFunction(matrix[r][c])\n",
    "        image_lst.append(matrix)\n",
    "        \n",
    "\n",
    "    prediction = []\n",
    "    for i in range(len(image_lst)):\n",
    "        max_predict = np.NINF\n",
    "        for d in range(DIGITS):\n",
    "            f[d][i] = bias[d]\n",
    "            image = image_lst[i]\n",
    "            for r in range(len(image)):\n",
    "                for c in range(len(image[0])):\n",
    "                    f[d][i] += weights[d][r][c] * image[r][c]\n",
    "            #print(f'f digit {d} image {i}: {f[d][i]}')\n",
    "            if f[d][i] > max_predict:\n",
    "                max_predict = f[d][i]\n",
    "                arg_max = d\n",
    "\n",
    "        #print()\n",
    "            \n",
    "        prediction.append(arg_max)\n",
    "\n",
    "    num_correct = 0\n",
    "    for i in range(len(prediction)):\n",
    "        #print(f'Predicted Digit: {prediction[i]} Actual Digit: {digit_valid_labels[rand_samples[i]]}')\n",
    "        if prediction[i] == digit_valid_labels[rand_samples[i]] == 1:\n",
    "            num_correct += 1\n",
    "\n",
    "    result = num_correct / size\n",
    "\n",
    "    return result"
   ]
  },
  {
   "cell_type": "code",
   "execution_count": null,
   "metadata": {},
   "outputs": [],
   "source": [
    "digit_validate(1000,.01,weights,bias)"
   ]
  },
  {
   "cell_type": "code",
   "execution_count": 87,
   "metadata": {},
   "outputs": [
    {
     "name": "stdout",
     "output_type": "stream",
     "text": [
      "Percent of Training Data Used = 100.00%\n",
      "[0.051, 0.039, 0.057, 0.065, 0.043]\n",
      "Mean: 0.051000000000000004\n",
      "Std: 0.009380831519646861\n",
      "\n"
     ]
    }
   ],
   "source": [
    "TRAIN_SIZE = 5000\n",
    "VALID_SIZE = 1000\n",
    "epochs = 5\n",
    "percentage = [1] #np.arange(0.1,1.1,.1)\n",
    "\n",
    "for percent in percentage:\n",
    "    accuracy = []\n",
    "    for i in range(epochs):\n",
    "        weights, bias = digit_train(TRAIN_SIZE,percent) # return weights and bias used for validation\n",
    "        result = digit_validate(VALID_SIZE,percent,weights,bias)\n",
    "        accuracy.append(result)\n",
    "\n",
    "    # Optional - Save to file later    \n",
    "    print(f'Percent of Training Data Used = {\"{:.2%}\".format(percent)}')\n",
    "    print(accuracy)\n",
    "    print(f'Mean: {np.mean(accuracy)}')\n",
    "    print(f'Std: {np.std(accuracy)}')\n",
    "    print()"
   ]
  },
  {
   "cell_type": "code",
   "execution_count": 11,
   "metadata": {},
   "outputs": [],
   "source": [
    "import numpy as np\n",
    "weights = np.random.rand(1, 4200)\n",
    "phitures = 0"
   ]
  }
 ],
 "metadata": {
  "kernelspec": {
   "display_name": "Python 3",
   "language": "python",
   "name": "python3"
  },
  "language_info": {
   "codemirror_mode": {
    "name": "ipython",
    "version": 3
   },
   "file_extension": ".py",
   "mimetype": "text/x-python",
   "name": "python",
   "nbconvert_exporter": "python",
   "pygments_lexer": "ipython3",
   "version": "3.10.2"
  }
 },
 "nbformat": 4,
 "nbformat_minor": 2
}
